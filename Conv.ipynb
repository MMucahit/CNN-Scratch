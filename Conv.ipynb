{
 "cells": [
  {
   "cell_type": "code",
   "execution_count": 146,
   "metadata": {},
   "outputs": [],
   "source": [
    "## CNN Scratch\n",
    "\n",
    "import numpy as np\n",
    "import math\n",
    "\n",
    "img = np.array([[2,4,9,1,4],[2,1,4,4,6],[1,1,2,9,2],[7,3,5,1,3],[2,3,4,8,5],])\n",
    "kernel = np.array([[1,2,3],[-4,7,4],[2,-5,1]])\n",
    "\n",
    "def Conv(img, kernel, stride=1):\n",
    "    _list = []\n",
    "    for i in range(0, math.ceil((img.shape[0] - len(kernel) + 1) / stride)):\n",
    "        for j in range(0, math.ceil((img.shape[1] - len(kernel) + 1) / stride)):\n",
    "            _list.append((img[i:i+len(kernel), j:j+len(kernel)] * kernel).sum())\n",
    "\n",
    "    return np.array(_list).reshape(math.ceil((img.shape[0] - len(kernel) + 1) / stride), math.ceil((img.shape[1] - len(kernel) + 1) / stride))\n",
    "\n",
    "def MaxPool(img, kernel, stride=1):\n",
    "    _list = []\n",
    "    for i in range(0, math.ceil((img.shape[0] - len(kernel) + 1) / stride)):\n",
    "        for j in range(0, math.ceil((img.shape[1] - len(kernel) + 1) / stride)):\n",
    "            _list.append(max((img[i:i+len(kernel), j:j+len(kernel)].flatten())))\n",
    "\n",
    "    return np.array(_list).reshape(math.ceil((img.shape[0] - len(kernel) + 1) / stride), math.ceil((img.shape[1] - len(kernel) + 1) / stride))\n",
    "\n",
    "def avgPool(img, kernel, stride=1):\n",
    "    _list = []\n",
    "    for i in range(0, math.ceil((img.shape[0] - len(kernel) + 1) / stride)):\n",
    "        for j in range(0, math.ceil((img.shape[1] - len(kernel) + 1) / stride)):\n",
    "            _list.append(int(((img[i:i+len(kernel), j:j+len(kernel)].flatten())).mean()))\n",
    "\n",
    "    return np.array(_list).reshape(math.ceil((img.shape[0] - len(kernel) + 1) / stride), math.ceil((img.shape[1] - len(kernel) + 1) / stride))\n",
    "\n",
    "def samePadding(img, kernel):\n",
    "    p = int((len(kernel) - 1) / 2) + 1\n",
    "    if p == 1:\n",
    "        zeros = np.zeros((img.shape[0] + p, img.shape[1] + p))\n",
    "    else:\n",
    "        zeros = np.zeros((img.shape[0] + p + (p - 2), img.shape[1] + p + (p - 2)))\n",
    "    zeros[p - 1: img.shape[0] + p -1  ,p - 1: img.shape[1] + p - 1] = img\n",
    "    return zeros\n",
    "\n",
    "def Flatten(img):\n",
    "    return img.flatten()\n",
    "\n",
    "def Relu(img):\n",
    "    return np.array(list(map(lambda x: 0 if x < 0 else x,img.flatten()))).reshape(img.shape[0], img.shape[1])\n"
   ]
  }
 ],
 "metadata": {
  "kernelspec": {
   "display_name": "Python 3.10.4 64-bit",
   "language": "python",
   "name": "python3"
  },
  "language_info": {
   "codemirror_mode": {
    "name": "ipython",
    "version": 3
   },
   "file_extension": ".py",
   "mimetype": "text/x-python",
   "name": "python",
   "nbconvert_exporter": "python",
   "pygments_lexer": "ipython3",
   "version": "3.10.4"
  },
  "orig_nbformat": 4,
  "vscode": {
   "interpreter": {
    "hash": "916dbcbb3f70747c44a77c7bcd40155683ae19c65e1c03b4aa3499c5328201f1"
   }
  }
 },
 "nbformat": 4,
 "nbformat_minor": 2
}
